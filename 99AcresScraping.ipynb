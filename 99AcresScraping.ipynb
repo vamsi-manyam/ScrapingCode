{
  "cells": [
    {
      "cell_type": "code",
      "execution_count": null,
      "metadata": {
        "colab": {
          "base_uri": "https://localhost:8080/"
        },
        "id": "DFMMO9fp6ayb",
        "outputId": "e21bcc6d-7385-43de-fa8d-7d0e0d85789d"
      },
      "outputs": [
        {
          "name": "stdout",
          "output_type": "stream",
          "text": [
            "Looking in indexes: https://pypi.org/simple, https://us-python.pkg.dev/colab-wheels/public/simple/\n",
            "Requirement already satisfied: requests in /usr/local/lib/python3.7/dist-packages (2.23.0)\n",
            "Requirement already satisfied: idna<3,>=2.5 in /usr/local/lib/python3.7/dist-packages (from requests) (2.10)\n",
            "Requirement already satisfied: chardet<4,>=3.0.2 in /usr/local/lib/python3.7/dist-packages (from requests) (3.0.4)\n",
            "Requirement already satisfied: urllib3!=1.25.0,!=1.25.1,<1.26,>=1.21.1 in /usr/local/lib/python3.7/dist-packages (from requests) (1.24.3)\n",
            "Requirement already satisfied: certifi>=2017.4.17 in /usr/local/lib/python3.7/dist-packages (from requests) (2022.5.18.1)\n"
          ]
        }
      ],
      "source": [
        "!pip install requests"
      ]
    },
    {
      "cell_type": "code",
      "execution_count": null,
      "metadata": {
        "id": "MPpiI0_D8QbC"
      },
      "outputs": [],
      "source": [
        "import requests\n",
        "import time\n",
        "import json\n",
        "import pandas as pd\n"
      ]
    },
    {
      "cell_type": "code",
      "execution_count": null,
      "metadata": {
        "id": "VeppFvxIQ7LH"
      },
      "outputs": [],
      "source": [
        "super_response_list = []\n",
        "misconfigured_props = []\n",
        "errors = []\n",
        "output_file_name = \"99acres_data.xlsx\""
      ]
    },
    {
      "cell_type": "code",
      "execution_count": null,
      "metadata": {
        "id": "kPLDxaunYjPU"
      },
      "outputs": [],
      "source": [
        "amenities_map = {\n",
        "\t'1': 'Swimming Pool',\n",
        "\t'2': 'Power Backup',\n",
        "\t'3': 'Club house',\n",
        "\t'4': 'Parking',\t\n",
        "\t'5' : 'Feng Shui / Vaastu Compliant',\n",
        "\t'6': 'Park',\t\n",
        "  '8' : 'Private Garden / Terrace',\n",
        "\t'9': 'Security Personnel',\t\n",
        "  '10' : 'Centrally Air Conditioned',\n",
        "\t'11': 'ATM',\n",
        "\t'12': 'Fitness Centre / GYM',\n",
        "\t'17' : 'Security/Fire Alarm',\n",
        "\t'19': 'Visitor Parking',\n",
        "\t'20' : 'Intercom Facility',\n",
        "\t'21': 'Lift',\n",
        "\t'23' : 'Maintenance Staff',\n",
        "\t'24' : 'Water Storage',\t\n",
        "\t'25': 'Waste disposal',\n",
        "\t'26' : 'Rain Water Harvesting',\n",
        "\t'28': 'Bank Attached Property',\n",
        "\t'29': 'Piped-gas',\n",
        "\t'30': 'Internet/wi-fi connectivity',\n",
        "\t'31': 'Water softening plant',\n",
        "  '32': 'Water purifier',\n",
        "\t'33': 'Shopping Centre',\n",
        "\t'34': 'Wheelchair Accessibility',\n",
        "\t'35': 'DG Availability',\n",
        "\t'39' : 'Recently Renovated',\n",
        "\t'40' : 'Natural Light',\n",
        "\t'41' : 'Airy Rooms',\n",
        "  '42' : 'Spacious Interiors',\n",
        "\t'43' : 'Low Density Society',\n",
        "\t'44' : 'High Ceiling Height',\n",
        "\t'45' : 'False Ceiling Lighting',\n",
        "  '46' : 'Separate entry for servant room',\n",
        "\t'47' : 'No open drainage around',\n",
        "  '101' : 'Wheelchair Friendly',\n",
        "  '102' : 'Pet Friendly',\n",
        "  '103' : 'AC Room',\n",
        "  '104' : 'Food Service',\n",
        "  '105' : \"Wifi\",\n",
        "  '106' : 'Laundry Available'\n",
        "}"
      ]
    },
    {
      "cell_type": "code",
      "execution_count": 1,
      "metadata": {
        "colab": {
          "base_uri": "https://localhost:8080/",
          "height": 419
        },
        "id": "NtM7Gd6Mx0pL",
        "outputId": "8cb4e026-3b18-432f-802d-d9decd088251"
      },
      "outputs": [
        {
          "output_type": "error",
          "ename": "NameError",
          "evalue": "ignored",
          "traceback": [
            "\u001b[0;31m---------------------------------------------------------------------------\u001b[0m",
            "\u001b[0;31mNameError\u001b[0m                                 Traceback (most recent call last)",
            "\u001b[0;32m<ipython-input-1-55a444a690e8>\u001b[0m in \u001b[0;36m<module>\u001b[0;34m()\u001b[0m\n\u001b[1;32m      6\u001b[0m   \u001b[0;32mtry\u001b[0m \u001b[0;34m:\u001b[0m\u001b[0;34m\u001b[0m\u001b[0;34m\u001b[0m\u001b[0m\n\u001b[0;32m----> 7\u001b[0;31m     \u001b[0mresp\u001b[0m \u001b[0;34m=\u001b[0m \u001b[0mrequests\u001b[0m\u001b[0;34m.\u001b[0m\u001b[0mget\u001b[0m\u001b[0;34m(\u001b[0m\u001b[0murl\u001b[0m\u001b[0;34m)\u001b[0m\u001b[0;34m\u001b[0m\u001b[0;34m\u001b[0m\u001b[0m\n\u001b[0m\u001b[1;32m      8\u001b[0m     \u001b[0mtime\u001b[0m\u001b[0;34m.\u001b[0m\u001b[0msleep\u001b[0m\u001b[0;34m(\u001b[0m\u001b[0;36m0.5\u001b[0m\u001b[0;34m)\u001b[0m\u001b[0;34m\u001b[0m\u001b[0;34m\u001b[0m\u001b[0m\n",
            "\u001b[0;31mNameError\u001b[0m: name 'requests' is not defined",
            "\nDuring handling of the above exception, another exception occurred:\n",
            "\u001b[0;31mNameError\u001b[0m                                 Traceback (most recent call last)",
            "\u001b[0;32m<ipython-input-1-55a444a690e8>\u001b[0m in \u001b[0;36m<module>\u001b[0;34m()\u001b[0m\n\u001b[1;32m     12\u001b[0m     \u001b[0;32mcontinue\u001b[0m\u001b[0;34m\u001b[0m\u001b[0;34m\u001b[0m\u001b[0m\n\u001b[1;32m     13\u001b[0m   \u001b[0;32mexcept\u001b[0m \u001b[0mException\u001b[0m \u001b[0;32mas\u001b[0m \u001b[0me\u001b[0m\u001b[0;34m:\u001b[0m\u001b[0;34m\u001b[0m\u001b[0;34m\u001b[0m\u001b[0m\n\u001b[0;32m---> 14\u001b[0;31m     \u001b[0mprint\u001b[0m\u001b[0;34m(\u001b[0m\u001b[0mi\u001b[0m\u001b[0;34m,\u001b[0m\u001b[0mresp\u001b[0m\u001b[0;34m,\u001b[0m\u001b[0me\u001b[0m\u001b[0;34m)\u001b[0m\u001b[0;34m\u001b[0m\u001b[0;34m\u001b[0m\u001b[0m\n\u001b[0m\u001b[1;32m     15\u001b[0m     \u001b[0;32mcontinue\u001b[0m\u001b[0;34m\u001b[0m\u001b[0;34m\u001b[0m\u001b[0m\n\u001b[1;32m     16\u001b[0m \u001b[0mlen\u001b[0m\u001b[0;34m(\u001b[0m\u001b[0mresp_list\u001b[0m\u001b[0;34m)\u001b[0m\u001b[0;34m\u001b[0m\u001b[0;34m\u001b[0m\u001b[0m\n",
            "\u001b[0;31mNameError\u001b[0m: name 'resp' is not defined"
          ]
        }
      ],
      "source": [
        "url_template = 'https://www.99acres.com/api-aggregator/discovery/srp/search?sortby=date_d&area_unit=1&platform=DESKTOP&moduleName=GRAILS_SRP&workflow=GRAILS_SRP&page_size=200&page={}&city=38&preference=S&res_com=R&seoUrlType=DEFAULT'\n",
        "resp_list = []\n",
        "for i in range(1,100) :\n",
        "  url = url_template.format(i)\n",
        "  \n",
        "  try : \n",
        "    resp = requests.get(url)\n",
        "    time.sleep(0.5)\n",
        "    print(i,resp)\n",
        "    resp_json = resp.json()\n",
        "    resp_list.append(resp_json)\n",
        "    continue\n",
        "  except Exception as e:\n",
        "    print(i,resp,e)\n",
        "    continue\n",
        "len(resp_list)\n",
        "super_response_list.extend(resp_list)\n",
        "with open(f'99acres_{i}_responses_data.json', 'w') as fp:\n",
        "    saved_json = {\n",
        "        'responses' : super_response_list\n",
        "    }\n",
        "    json.dump(saved_json, fp)\n",
        "\n"
      ]
    },
    {
      "cell_type": "code",
      "execution_count": null,
      "metadata": {
        "colab": {
          "base_uri": "https://localhost:8080/"
        },
        "id": "BCaQ_D-Qcvui",
        "outputId": "c6fb93b1-a53e-4d40-8e2d-b620e7118d5b"
      },
      "outputs": [
        {
          "data": {
            "text/plain": [
              "99"
            ]
          },
          "execution_count": 18,
          "metadata": {},
          "output_type": "execute_result"
        }
      ],
      "source": [
        "len(resp_list)"
      ]
    },
    {
      "cell_type": "code",
      "execution_count": null,
      "metadata": {
        "id": "sB0hj-hWSNIw"
      },
      "outputs": [],
      "source": [
        "final_results = []\n",
        "c = 0\n",
        "for resp in resp_list:\n",
        "  results,c = get_properties_of_a_resp(resp,c)\n",
        "  final_results.extend(results)\n",
        "  # print(\"len\",len(results))\n",
        "\n",
        "print(\"Final length\",len(final_results))\n",
        "# print(\"ACtual prop count\",c)\n",
        "\n",
        "final_df = pd.DataFrame(final_results)\n",
        "final_df.to_excel(output_file_name)\n",
        "\n",
        "uniq_err = set(errors)\n",
        "print(len(uniq_err))\n"
      ]
    },
    {
      "cell_type": "code",
      "execution_count": null,
      "metadata": {
        "id": "CkfjAkzA58JR"
      },
      "outputs": [],
      "source": [
        "def get_properties_of_a_resp(response_json, c) :\n",
        "  page_json_list = []\n",
        "  # response = requests.get(url2)\n",
        "  # print(response,response.text)\n",
        "  # response_json = response.json()\n",
        "  # response_json.keys()\n",
        "  facets = response_json['facets']\n",
        "  properties = response_json['properties']\n",
        "  amenities_list = response_json['facets']['FEATURES']\n",
        "  availability_list = response_json['facets']['SUB_AVAILABILITY']\n",
        "\n",
        "\n",
        "# fills the page_json\n",
        "  for prop in properties :\n",
        "    c = c+1\n",
        "    prop_dets = get_property_details(prop)\n",
        "    if prop_dets == None :\n",
        "      continue\n",
        "    page_json_list.append(prop_dets)\n",
        "    \n",
        "  print(\"Number of good props in this json : \",len(page_json_list))\n",
        "\n",
        "  return page_json_list,c"
      ]
    },
    {
      "cell_type": "code",
      "execution_count": null,
      "metadata": {
        "id": "Tp3l8c6wIJ3R"
      },
      "outputs": [],
      "source": [
        "def get_property_details(prop) :\n",
        "  url_prefix = 'https://www.99acres.com'\n",
        "  details = {}\n",
        "\n",
        "  try :\n",
        "    details['Apartment Name'] = prop.get('BUILDING_NAME','Null')\n",
        "    details['Society Name'] = prop['location'].get('SOCIETY_NAME','Null')\n",
        "    details['Location'] = prop['location']['LOCALITY_NAME']\n",
        "\n",
        "    details['Heading'] = prop['PROP_HEADING']\n",
        "    details['URL'] = url_prefix + prop.get('PD_URL','Null')\n",
        "    details['Property ID'] = prop['PROP_ID']\n",
        "    details['Property Type'] = prop['PROPERTY_TYPE']\n",
        "    details['Photo Url'] = prop.get('MEDIUM_PHOTO_URL','Null')\n",
        "    \n",
        "\n",
        "\n",
        "    details['Registered Date'] = prop['REGISTER_DATE__U']\n",
        "    \n",
        "\n",
        "    address = prop['location'].get('BUILDING_NAME','Null') + \",\" + prop['location'].get('LOCALITY_NAME','Null') + \",\" + prop['location'].get('CITY_NAME','Null')\n",
        "    details['Address'] = address\n",
        "    details['Area'] = prop['AREA']\n",
        "    avail_id = prop['FORMATTED']['AVAIL']['AVAILABILITY']\n",
        "    details['Availability'] = 'Ready to move' if avail_id == 2 else 'Under Construction'\n",
        "    details['Price in Rs'] = prop['FORMATTED']['AVG_PRICE']\n",
        "    details['Price in words'] = prop['FORMATTED']['PRICE_IN_WORDS']\n",
        "    details['Owner/Dealer Name'] = prop.get('CONTACT_NAME','Null')\n",
        "\n",
        "    details['Price Per unit area'] = prop.get('PRICE_PER_UNIT_AREA','Null')\n",
        "\n",
        "    facing = {\n",
        "        1 : 'NORTH',\n",
        "        2 : 'SOUTH',\n",
        "        3 : 'EAST',\n",
        "        4 : 'WEST',\n",
        "        5 : 'North-East',\n",
        "        'Null' : 'Null'\n",
        "    }    \n",
        "\n",
        "    details['Facing'] = facing.get(prop.get('FACING','Null'),'Unknown')\n",
        "    \n",
        "  \n",
        "\n",
        "    details['Total Floors'] = prop.get('TOTAL_FLOOR','Null')\n",
        "    details['Floor Number'] = prop.get('FLOOR_NUM','Null')\n",
        "    details['Bedroom'] = prop.get('BEDROOM_NUM','Null')\n",
        "    details['Bathroom'] = prop.get('BATHROOM_NUM','Null')\n",
        "    details['Balcony'] = prop.get('BALCONY_NUM','Null')\n",
        "    details['Rera Status'] = prop['xid'].get('REGISTRATION_STATUS','Null')\n",
        "    details['Rera Number'] = prop['xid'].get('PROJ_RERA_REGISTRATION_ID','Null')\n",
        "\n",
        "\n",
        "    am_ids = prop['AMENITIES'].split(',')\n",
        "    ams_text = [amenities_map.get(id,id) for id in am_ids]\n",
        "    details['Amenities'] = ams_text\n",
        "    \n",
        "\n",
        "    return details\n",
        "  \n",
        "  except Exception as e:\n",
        "    misconfigured_props.append(prop)\n",
        "    errors.append(str(e))\n",
        "    return None\n",
        "  "
      ]
    },
    {
      "cell_type": "code",
      "execution_count": null,
      "metadata": {
        "colab": {
          "base_uri": "https://localhost:8080/"
        },
        "id": "V7a8-7G3Bia4",
        "outputId": "03818aea-0e95-4647-a9a1-920b58d1ea90"
      },
      "outputs": [
        {
          "data": {
            "text/plain": [
              "dict"
            ]
          },
          "execution_count": 66,
          "metadata": {},
          "output_type": "execute_result"
        }
      ],
      "source": [
        "ids = [47,28,29,30,39,19,1,6,9,40,41,43,25,26,31,33,12,3]\n",
        "ams_text = '''\n",
        "No open drainage around\n",
        "Bank Attached Property\n",
        "Piped-gas\n",
        "Internet/wi-fi connectivity\n",
        "Recently Renovated\n",
        "Visitor Parking\n",
        "Swimming Pool\n",
        "Park\n",
        "Security Personnel\n",
        "Natural Light\n",
        "Airy Rooms\n",
        "Low Density Society\n",
        "Waste Disposal\n",
        "Rain Water Harvesting\n",
        "Water softening plant\n",
        "Shopping Centre\n",
        "Fitness Centre / GYM\n",
        "Club house / Community Center\n",
        "'''\n",
        "ams = ams_text.split(\"\\n\")[1:-1]\n",
        "len(ams)\n",
        "\n",
        "map = {}\n",
        "\n",
        "for i in range(len(ams)):\n",
        "  map[ids[i]] = ams[i] \n",
        "\n",
        "map\n"
      ]
    },
    {
      "cell_type": "code",
      "execution_count": null,
      "metadata": {
        "id": "imWUEh4U7X6n"
      },
      "outputs": [],
      "source": [
        "# response = requests.get(\"http://api.open-notify.org/astros.json\")\n",
        "url2 = 'https://www.99acres.com/api-aggregator/discovery/srp/search?sortby=date_d&area_unit=1&platform=DESKTOP&moduleName=GRAILS_SRP&workflow=GRAILS_SRP&page_size=25&page=750&city=38&preference=S&res_com=R&seoUrlType=DEFAULT'\n",
        "response = requests.get(url2)\n",
        "print(response)\n",
        "print(response.headers)\n",
        "print(response.text)\n"
      ]
    }
  ],
  "metadata": {
    "colab": {
      "name": "99AcresScraping.ipynb",
      "provenance": [],
      "authorship_tag": "ABX9TyMDoKuQR1eDRKm52qTf/4Qq"
    },
    "kernelspec": {
      "display_name": "Python 3",
      "name": "python3"
    },
    "language_info": {
      "name": "python"
    }
  },
  "nbformat": 4,
  "nbformat_minor": 0
}